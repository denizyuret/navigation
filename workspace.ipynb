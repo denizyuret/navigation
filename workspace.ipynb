{
 "cells": [
  {
   "cell_type": "code",
   "execution_count": 44,
   "metadata": {
    "collapsed": false
   },
   "outputs": [
    {
     "name": "stdout",
     "output_type": "stream",
     "text": [
      "[(3,5,180),(3,6,180),(3,7,180),(3,7,270),(2,7,270),(1,7,270),(1,7,180),(1,8,180),(1,9,180)]\n",
      "true\n",
      "(2,8)\n"
     ]
    }
   ],
   "source": [
    "include(\"util.jl\")\n",
    "\n",
    "fname = \"data/maps/map-grid.json\"\n",
    "grid = getmap(fname)\n",
    "\n",
    "fname = \"data/instructions/ParagraphRandom.grid.json\"\n",
    "instructions = getinstructions(fname)\n",
    "\n",
    "onehot(view, x, y) = reshape(view[x, y, :], 1, size(view, 3))\n",
    "\n",
    "println(instructions[1].path)\n",
    "println(haskey(grid.edges[(3,5)], (3,6)))\n",
    "println(grid.edges[(3,5)][(3,6)])"
   ]
  },
  {
   "cell_type": "code",
   "execution_count": 45,
   "metadata": {
    "collapsed": false
   },
   "outputs": [
    {
     "name": "stdout",
     "output_type": "stream",
     "text": [
      "Item: 6\n",
      "Item: 7\n",
      "Item: 3\n"
     ]
    }
   ],
   "source": [
    "view = state_agent_centric(grid, (3, 5, 180); vdims = [39 39]);"
   ]
  },
  {
   "cell_type": "code",
   "execution_count": 50,
   "metadata": {
    "collapsed": false
   },
   "outputs": [
    {
     "name": "stdout",
     "output_type": "stream",
     "text": [
      "[0.0 0.0 1.0 0.0 0.0 0.0 0.0 0.0 0.0 0.0 0.0 0.0 0.0 0.0 0.0 0.0 0.0 0.0 0.0]\n"
     ]
    }
   ],
   "source": [
    "println(onehot(view, 14, 20))"
   ]
  },
  {
   "cell_type": "code",
   "execution_count": 10,
   "metadata": {
    "collapsed": false
   },
   "outputs": [
    {
     "name": "stdout",
     "output_type": "stream",
     "text": [
      "Building the vocab...\n",
      "Converting data...\n",
      "Saving...\n",
      "Done!\n",
      "Building the vocab...\n",
      "Converting data...\n",
      "Saving...\n",
      "Done!\n",
      "Building the vocab...\n",
      "Converting data...\n",
      "Saving...\n",
      "Done!\n"
     ]
    }
   ],
   "source": [
    "include(\"util.jl\")\n",
    "\n",
    "files = [\"data/instructions/SingleSentenceZeroInitial.grid.json\",\n",
    "    \"data/instructions/SingleSentenceZeroInitial.jelly.json\"]\n",
    "build_data(files, \"grid_jelly.jld\")\n",
    "\n",
    "files = [\"data/instructions/SingleSentenceZeroInitial.grid.json\",\n",
    "    \"data/instructions/SingleSentenceZeroInitial.l.json\"]\n",
    "build_data(files, \"grid_l.jld\")\n",
    "\n",
    "files = [\"data/instructions/SingleSentenceZeroInitial.l.json\",\n",
    "    \"data/instructions/SingleSentenceZeroInitial.jelly.json\"]\n",
    "build_data(files, \"l_jelly.jld\")"
   ]
  },
  {
   "cell_type": "code",
   "execution_count": null,
   "metadata": {
    "collapsed": true
   },
   "outputs": [],
   "source": []
  }
 ],
 "metadata": {
  "kernelspec": {
   "display_name": "Julia 0.4.5",
   "language": "julia",
   "name": "julia-0.4"
  },
  "language_info": {
   "file_extension": ".jl",
   "mimetype": "application/julia",
   "name": "julia",
   "version": "0.4.5"
  }
 },
 "nbformat": 4,
 "nbformat_minor": 0
}
