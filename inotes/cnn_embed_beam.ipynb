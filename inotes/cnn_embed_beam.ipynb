{
 "cells": [
  {
   "cell_type": "code",
   "execution_count": 1,
   "metadata": {
    "collapsed": false
   },
   "outputs": [
    {
     "data": {
      "text/plain": [
       "StatsBase.WeightVec{Float64,Array{Float64,1}}([0.319088,0.344729,0.336182],1.0)"
      ]
     },
     "execution_count": 1,
     "metadata": {},
     "output_type": "execute_result"
    }
   ],
   "source": [
    "using StatsBase\n",
    "\n",
    "s = [874, 1293, 1070] ./ 3237\n",
    "p = [224, 242, 236] ./ 702\n",
    "\n",
    "s = WeightVec(s)\n",
    "p = WeightVec(p)"
   ]
  },
  {
   "cell_type": "code",
   "execution_count": 2,
   "metadata": {
    "collapsed": false
   },
   "outputs": [
    {
     "name": "stdout",
     "output_type": "stream",
     "text": [
      "Single: [0.66209,0.711277,0.686604]\n",
      "Paragraph: [0.263514,0.242816,0.278569]\n",
      "Weighted Single: (0.6898408183535534,0.019873232569989)\n",
      "Weighted Paragraph: (0.261440095606845,0.014818075771596488)\n",
      "Ensemble Weighted Single: (0.7148627180074669,0.012555677591304982)\n",
      "Ensemble Weighted Paragraph: (0.301090159565401,0.031088410309373014)\n"
     ]
    }
   ],
   "source": [
    "model = \"cnn embed beam\"\n",
    "\n",
    "rs_1 = [0.6224256292906178, 0.7094281298299846, 0.6934579439252336];\n",
    "rp_1 = [0.21052631578947367, 0.25, 0.2920353982300885];\n",
    "\n",
    "rs_2 = [0.6773455377574371, 0.718266253869969, 0.6672897196261682];\n",
    "rp_2 = [0.23423423423423423, 0.25210084033613445, 0.21138211382113822];\n",
    "\n",
    "rs_3 = [0.6681922196796338, 0.6769706336939721, 0.6897196261682244];\n",
    "rp_3 = [0.30701754385964913, 0.22580645161290322, 0.26548672566371684];\n",
    "\n",
    "rs_4 = [0.665903890160183, 0.7430340557275542, 0.6915887850467289];\n",
    "rp_4 = [0.2702702702702703, 0.25210084033613445, 0.3008130081300813];\n",
    "\n",
    "rs_5 = [0.6636155606407322, 0.7032457496136012, 0.6897196261682244];\n",
    "rp_5 = [0.3157894736842105, 0.25, 0.3008849557522124];\n",
    "\n",
    "rs_6 = [0.6750572082379863, 0.7167182662538699, 0.6878504672897197];\n",
    "rp_6 = [0.24324324324324326, 0.226890756302521, 0.3008130081300813];\n",
    "\n",
    "rs_ens_1 = [0.7048054919908466, 0.7187017001545595, 0.702803738317757];\n",
    "rp_ens_1 = [0.34210526315789475, 0.2661290322580645, 0.336283185840708];\n",
    "\n",
    "rs_ens_2 = [0.6933638443935927, 0.739938080495356, 0.7177570093457943];\n",
    "rp_ens_2 = [0.2882882882882883, 0.25210084033613445, 0.3252032520325203];\n",
    "\n",
    "rs_m = (rs_1 + rs_2 + rs_3 + rs_4 + rs_5 + rs_6) / 6\n",
    "rp_m = (rp_1 + rp_2 + rp_3 + rp_4 + rp_5 + rp_6) / 6\n",
    "\n",
    "rs_ens_m = (rs_ens_1 + rs_ens_2) / 2\n",
    "rp_ens_m = (rp_ens_1 + rp_ens_2) / 2\n",
    "\n",
    "println(\"Single: $(rs_m)\")\n",
    "println(\"Paragraph: $(rp_m)\")\n",
    "println(\"Weighted Single: $(mean_and_std(rs_m, s))\")\n",
    "println(\"Weighted Paragraph: $(mean_and_std(rp_m, p))\")\n",
    "println(\"Ensemble Weighted Single: $(mean_and_std(rs_ens_m, s))\")\n",
    "println(\"Ensemble Weighted Paragraph: $(mean_and_std(rp_ens_m, p))\")\n"
   ]
  },
  {
   "cell_type": "code",
   "execution_count": 3,
   "metadata": {
    "collapsed": false
   },
   "outputs": [
    {
     "name": "stdout",
     "output_type": "stream",
     "text": [
      "Ensemble10 Weighted Single: (0.7222810549547809,0.01775590166682548)\n",
      "Ensemble10 Weighted Paragraph: (0.3072068754971542,0.031392758732145844)\n"
     ]
    }
   ],
   "source": [
    "rs_ens10_1 = [0.6933638443935927, 0.717156105100463, 0.7158878504672898];\n",
    "rp_ens10_1 = [0.3508771929824561, 0.22580645161290322, 0.36283185840707965];\n",
    "\n",
    "rs_ens10_2 = [0.700228832951945, 0.7647058823529411, 0.7252336448598131];\n",
    "rp_ens10_2 = [0.25225225225225223, 0.31932773109243695, 0.3333333333333333];\n",
    "\n",
    "rs_ens_m = (rs_ens10_1 + rs_ens10_2) / 2\n",
    "rp_ens_m = (rp_ens10_1 + rp_ens10_2) / 2\n",
    "\n",
    "println(\"Ensemble10 Weighted Single: $(mean_and_std(rs_ens_m, s))\")\n",
    "println(\"Ensemble10 Weighted Paragraph: $(mean_and_std(rp_ens_m, p))\")"
   ]
  },
  {
   "cell_type": "code",
   "execution_count": null,
   "metadata": {
    "collapsed": true
   },
   "outputs": [],
   "source": []
  }
 ],
 "metadata": {
  "kernelspec": {
   "display_name": "Julia 0.5.0",
   "language": "julia",
   "name": "julia-0.5"
  },
  "language_info": {
   "file_extension": ".jl",
   "mimetype": "application/julia",
   "name": "julia",
   "version": "0.5.0"
  }
 },
 "nbformat": 4,
 "nbformat_minor": 1
}
