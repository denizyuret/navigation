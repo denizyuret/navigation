{
 "cells": [
  {
   "cell_type": "code",
   "execution_count": 1,
   "metadata": {
    "collapsed": false
   },
   "outputs": [
    {
     "data": {
      "text/plain": [
       "StatsBase.WeightVec{Float64,Array{Float64,1}}([0.319088,0.344729,0.336182],1.0)"
      ]
     },
     "execution_count": 1,
     "metadata": {},
     "output_type": "execute_result"
    }
   ],
   "source": [
    "using StatsBase\n",
    "\n",
    "s = [874, 1293, 1070] ./ 3237\n",
    "p = [224, 242, 236] ./ 702\n",
    "\n",
    "s = WeightVec(s)\n",
    "p = WeightVec(p)"
   ]
  },
  {
   "cell_type": "code",
   "execution_count": 2,
   "metadata": {
    "collapsed": false
   },
   "outputs": [
    {
     "name": "stdout",
     "output_type": "stream",
     "text": [
      "Single: [0.656369,0.707669,0.688785]\n",
      "Paragraph: [0.264896,0.229319,0.27231]\n",
      "Weighted Single: (0.6875758231934297,0.02060825069183625)\n",
      "Weighted Paragraph: (0.2551241411353554,0.018955655303813723)\n",
      "Ensemble Weighted Single: (0.7117743927649919,0.014571362819044326)\n",
      "Ensemble Weighted Paragraph: (0.28382763931734456,0.03256280405044694)\n"
     ]
    }
   ],
   "source": [
    "rs_1 = [0.6224256292906178, 0.7063369397217929, 0.6878504672897197];\n",
    "rp_1 = [0.22807017543859648,0.23387096774193547, 0.26548672566371684];\n",
    "\n",
    "rs_2 = [0.6750572082379863, 0.7167182662538699, 0.7009345794392523];\n",
    "rp_2 = [0.23423423423423423, 0.24369747899159663, 0.2682926829268293];\n",
    "\n",
    "rs_3 = [0.6613272311212814,  0.6738794435857806, 0.6841121495327103];\n",
    "rp_3 = [0.30701754385964913, 0.20161290322580644, 0.22123893805309736];\n",
    "\n",
    "rs_4 = [0.6475972540045767, 0.7368421052631579, 0.6990654205607477];\n",
    "rp_4 = [0.24324324324324326, 0.226890756302521, 0.2682926829268293];\n",
    "\n",
    "rs_5 = [0.6544622425629291, 0.6939721792890263, 0.6841121495327103];\n",
    "rp_5 = [0.32456140350877194, 0.21774193548387097, 0.30973451327433627];\n",
    "\n",
    "rs_6 = [0.6773455377574371, 0.718266253869969, 0.6766355140186916];\n",
    "rp_6 = [0.25225225225225223, 0.25210084033613445, 0.3008130081300813];\n",
    "\n",
    "rs_ens_1 = [0.6864988558352403, 0.7125193199381762, 0.7102803738317757];\n",
    "rp_ens_1 = [0.34210526315789475, 0.22580645161290322, 0.2920353982300885];\n",
    "\n",
    "rs_ens_2 = [0.6933638443935927, 0.739938080495356,  0.7140186915887851];\n",
    "rp_ens_2 = [0.2702702702702703, 0.25210084033613445, 0.3252032520325203];\n",
    "\n",
    "rs_m = (rs_1 + rs_2 + rs_3 + rs_4 + rs_5 + rs_6) / 6\n",
    "rp_m = (rp_1 + rp_2 + rp_3 + rp_4 + rp_5 + rp_6) / 6\n",
    "\n",
    "rs_ens_m = (rs_ens_1 + rs_ens_2) / 2\n",
    "rp_ens_m = (rp_ens_1 + rp_ens_2) / 2\n",
    "\n",
    "println(\"Single: $(rs_m)\")\n",
    "println(\"Paragraph: $(rp_m)\")\n",
    "println(\"Weighted Single: $(mean_and_std(rs_m, s))\")\n",
    "println(\"Weighted Paragraph: $(mean_and_std(rp_m, p))\")\n",
    "println(\"Ensemble Weighted Single: $(mean_and_std(rs_ens_m, s))\")\n",
    "println(\"Ensemble Weighted Paragraph: $(mean_and_std(rp_ens_m, p))\")\n"
   ]
  },
  {
   "cell_type": "code",
   "execution_count": 4,
   "metadata": {
    "collapsed": false
   },
   "outputs": [
    {
     "name": "stdout",
     "output_type": "stream",
     "text": [
      "Ensemble10 Weighted Single: (0.7241341459653547,0.019874746288752722)\n",
      "Ensemble10 Weighted Paragraph: (0.29112132945980423,0.03758720426255372)\n"
     ]
    }
   ],
   "source": [
    "rs_ens_1 = [0.6956521739130435, 0.7217928902627512, 0.7158878504672898];\n",
    "rp_ens_1 = [0.3333333333333333, 0.21774193548387097, 0.327433628318584];\n",
    "\n",
    "rs_ens_2 = [0.6933638443935927, 0.7662538699690402, 0.7327102803738318];\n",
    "rp_ens_2 = [0.24324324324324326, 0.2773109243697479, 0.34959349593495936];\n",
    "\n",
    "rs_ens_m = (rs_ens_1 + rs_ens_2) / 2\n",
    "rp_ens_m = (rp_ens_1 + rp_ens_2) / 2\n",
    "\n",
    "println(\"Ensemble10 Weighted Single: $(mean_and_std(rs_ens_m, s))\")\n",
    "println(\"Ensemble10 Weighted Paragraph: $(mean_and_std(rp_ens_m, p))\")"
   ]
  },
  {
   "cell_type": "code",
   "execution_count": null,
   "metadata": {
    "collapsed": true
   },
   "outputs": [],
   "source": []
  }
 ],
 "metadata": {
  "kernelspec": {
   "display_name": "Julia 0.5.0",
   "language": "julia",
   "name": "julia-0.5"
  },
  "language_info": {
   "file_extension": ".jl",
   "mimetype": "application/julia",
   "name": "julia",
   "version": "0.5.0"
  }
 },
 "nbformat": 4,
 "nbformat_minor": 1
}
