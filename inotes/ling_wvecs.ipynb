{
 "cells": [
  {
   "cell_type": "code",
   "execution_count": 3,
   "metadata": {
    "collapsed": false
   },
   "outputs": [
    {
     "data": {
      "text/plain": [
       "StatsBase.WeightVec{Float64,Array{Float64,1}}([0.319088,0.344729,0.336182],1.0)"
      ]
     },
     "execution_count": 3,
     "metadata": {},
     "output_type": "execute_result"
    }
   ],
   "source": [
    "using StatsBase\n",
    "\n",
    "s = [874, 1293, 1070] ./ 3237\n",
    "p = [224, 242, 236] ./ 702\n",
    "\n",
    "s = WeightVec(s)\n",
    "p = WeightVec(p)"
   ]
  },
  {
   "cell_type": "code",
   "execution_count": 4,
   "metadata": {
    "collapsed": false
   },
   "outputs": [
    {
     "name": "stdout",
     "output_type": "stream",
     "text": [
      "Single: [0.622044,0.647349,0.619315]\n",
      "Paragraph: [0.232851,0.141434,0.165492]\n",
      "Weighted Single: (0.6312496852817634,0.013171685496880681)\n",
      "Weighted Paragraph: (0.17869189533865765,0.038380701227138776)\n",
      "Ensemble Weighted Single: (0.6456687997011055,0.017427009137950523)\n",
      "Ensemble Weighted Paragraph: (0.18764999248759273,0.027770623522909314)\n"
     ]
    }
   ],
   "source": [
    "model = \"wvecs + preva\"\n",
    "\n",
    "rs_1 = [0.5926773455377574, 0.6290571870170015, 0.611214953271028];\n",
    "rp_1 = [0.21929824561403508, 0.1532258064516129, 0.1592920353982301];\n",
    "\n",
    "rs_2 = [0.6361556064073226, 0.6780185758513931, 0.6205607476635514];\n",
    "rp_2 = [0.21621621621621623, 0.14285714285714285, 0.16260162601626016];\n",
    "\n",
    "rs_3 = [0.597254004576659, 0.624420401854714, 0.6261682242990654];\n",
    "rp_3 = [0.19298245614035087, 0.11290322580645161, 0.17699115044247787];\n",
    "\n",
    "rs_4 = [0.6475972540045767, 0.6687306501547987, 0.6037383177570094];\n",
    "rp_4 = [0.23423423423423423, 0.1512605042016806, 0.14634146341463414];\n",
    "\n",
    "rs_5 = [0.6109839816933639, 0.6228748068006182, 0.6355140186915887];\n",
    "rp_5 = [0.22807017543859648, 0.13709677419354838, 0.17699115044247787];\n",
    "\n",
    "rs_6 = [0.6475972540045767, 0.6609907120743034, 0.6186915887850467];\n",
    "rp_6 = [0.3063063063063063, 0.15126050420168066, 0.17073170731707318];\n",
    "\n",
    "rs_ens_1 = [0.620137299771167, 0.6367851622874807, 0.6355140186915887];\n",
    "rp_ens_1 = [0.21052631578947367, 0.14516129032258066, 0.17699115044247787];\n",
    "\n",
    "rs_ens_2 = [0.6521739130434783, 0.6965944272445821, 0.6205607476635514];\n",
    "rp_ens_2 = [0.24324324324324326, 0.17647058823529413, 0.17886178861788618];\n",
    "\n",
    "rs_m = (rs_1 + rs_2 + rs_3 + rs_4 + rs_5 + rs_6) / 6\n",
    "rp_m = (rp_1 + rp_2 + rp_3 + rp_4 + rp_5 + rp_6) / 6\n",
    "\n",
    "rs_ens_m = (rs_ens_1 + rs_ens_2) / 2\n",
    "rp_ens_m = (rp_ens_1 + rp_ens_2) / 2\n",
    "\n",
    "println(\"Single: $(rs_m)\")\n",
    "println(\"Paragraph: $(rp_m)\")\n",
    "println(\"Weighted Single: $(mean_and_std(rs_m, s))\")\n",
    "println(\"Weighted Paragraph: $(mean_and_std(rp_m, p))\")\n",
    "println(\"Ensemble Weighted Single: $(mean_and_std(rs_ens_m, s))\")\n",
    "println(\"Ensemble Weighted Paragraph: $(mean_and_std(rp_ens_m, p))\")\n"
   ]
  },
  {
   "cell_type": "code",
   "execution_count": 3,
   "metadata": {
    "collapsed": false
   },
   "outputs": [
    {
     "ename": "LoadError",
     "evalue": "MethodError: no method matching mean_and_std(::Array{Any,1}, ::StatsBase.WeightVec{Float64,Array{Float64,1}})\u001b[0m\nClosest candidates are:\n  mean_and_std(\u001b[1m\u001b[31m::AbstractArray{T<:Real,N}\u001b[0m, ::StatsBase.WeightVec{W,Vec<:AbstractArray{T<:Real,1}}) at /home/cano/.julia/v0.5/StatsBase/src/moments.jl:124\n  mean_and_std(\u001b[1m\u001b[31m::AbstractArray{T<:Real,N}\u001b[0m, ::StatsBase.WeightVec{W,Vec<:AbstractArray{T<:Real,1}}, \u001b[1m\u001b[31m::Int64\u001b[0m) at /home/cano/.julia/v0.5/StatsBase/src/moments.jl:130\u001b[0m",
     "output_type": "error",
     "traceback": [
      "MethodError: no method matching mean_and_std(::Array{Any,1}, ::StatsBase.WeightVec{Float64,Array{Float64,1}})\u001b[0m\nClosest candidates are:\n  mean_and_std(\u001b[1m\u001b[31m::AbstractArray{T<:Real,N}\u001b[0m, ::StatsBase.WeightVec{W,Vec<:AbstractArray{T<:Real,1}}) at /home/cano/.julia/v0.5/StatsBase/src/moments.jl:124\n  mean_and_std(\u001b[1m\u001b[31m::AbstractArray{T<:Real,N}\u001b[0m, ::StatsBase.WeightVec{W,Vec<:AbstractArray{T<:Real,1}}, \u001b[1m\u001b[31m::Int64\u001b[0m) at /home/cano/.julia/v0.5/StatsBase/src/moments.jl:130\u001b[0m",
      ""
     ]
    }
   ],
   "source": [
    "rs_ens10_1 = [];\n",
    "rp_ens10_1 = [];\n",
    "\n",
    "rs_ens10_2 = [];\n",
    "rp_ens10_2 = [];\n",
    "\n",
    "rs_ens_m = (rs_ens10_1 + rs_ens10_2) / 2\n",
    "rp_ens_m = (rp_ens10_1 + rp_ens10_2) / 2\n",
    "\n",
    "println(\"Ensemble10 Weighted Single: $(mean_and_std(rs_ens_m, s))\")\n",
    "println(\"Ensemble10 Weighted Paragraph: $(mean_and_std(rp_ens_m, p))\")"
   ]
  },
  {
   "cell_type": "code",
   "execution_count": null,
   "metadata": {
    "collapsed": true
   },
   "outputs": [],
   "source": []
  }
 ],
 "metadata": {
  "kernelspec": {
   "display_name": "Julia 0.5.0",
   "language": "julia",
   "name": "julia-0.5"
  },
  "language_info": {
   "file_extension": ".jl",
   "mimetype": "application/julia",
   "name": "julia",
   "version": "0.5.0"
  }
 },
 "nbformat": 4,
 "nbformat_minor": 1
}
