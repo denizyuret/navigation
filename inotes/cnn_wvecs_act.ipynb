{
 "cells": [
  {
   "cell_type": "code",
   "execution_count": 1,
   "metadata": {
    "collapsed": false
   },
   "outputs": [
    {
     "data": {
      "text/plain": [
       "StatsBase.WeightVec{Float64,Array{Float64,1}}([0.319088,0.344729,0.336182],1.0)"
      ]
     },
     "execution_count": 1,
     "metadata": {},
     "output_type": "execute_result"
    }
   ],
   "source": [
    "using StatsBase\n",
    "\n",
    "s = [874, 1293, 1070] ./ 3237\n",
    "p = [224, 242, 236] ./ 702\n",
    "\n",
    "s = WeightVec(s)\n",
    "p = WeightVec(p)"
   ]
  },
  {
   "cell_type": "code",
   "execution_count": 2,
   "metadata": {
    "collapsed": false
   },
   "outputs": [
    {
     "name": "stdout",
     "output_type": "stream",
     "text": [
      "Single: [0.651411,0.712822,0.681931]\n",
      "Paragraph: [0.264659,0.220023,0.265019]\n",
      "Weighted Single: (0.6860299100672973,0.024816667266293946)\n",
      "Weighted Paragraph: (0.24939300531709346,0.02130274809836909)\n",
      "Ensemble Weighted Single: (0.715481293959086,0.023604586461041497)\n",
      "Ensemble Weighted Paragraph: (0.2790987889838995,0.034828945176342954)\n"
     ]
    }
   ],
   "source": [
    "model = \"cnn wvecs + preva\"\n",
    "\n",
    "rs_1 = [0.6155606407322655, 0.6877897990726429, 0.6710280373831776];\n",
    "rp_1 = [0.2894736842105263, 0.18548387096774194, 0.23893805309734514];\n",
    "\n",
    "rs_2 = [0.6681922196796338, 0.7275541795665634, 0.708411214953271];\n",
    "rp_2 = [0.24324324324324326, 0.2605042016806723, 0.3008130081300813];\n",
    "\n",
    "rs_3 = [0.6453089244851259, 0.6970633693972179, 0.6915887850467289];\n",
    "rp_3 = [0.3157894736842105, 0.21774193548387097, 0.3008849557522124];\n",
    "\n",
    "rs_4 = [0.6453089244851259, 0.7306501547987616, 0.6728971962616822];\n",
    "rp_4 = [0.1891891891891892, 0.2773109243697479, 0.25203252032520324];\n",
    "\n",
    "rs_5 = [0.6773455377574371, 0.7171561051004637, 0.6654205607476635];\n",
    "rp_5 = [0.30701754385964913, 0.1774193548387097, 0.3185840707964602];\n",
    "\n",
    "rs_6 = [0.6567505720823799, 0.7167182662538699, 0.6822429906542056];\n",
    "rp_6 = [0.24324324324324326, 0.20168067226890757, 0.17886178861788618];\n",
    "\n",
    "rs_ens_1 = [0.6704805491990846, 0.7295208655332303, 0.6953271028037383];\n",
    "rp_ens_1 = [0.30701754385964913, 0.20161290322580644, 0.35398230088495575];\n",
    "\n",
    "rs_ens_2 = [0.700228832951945, 0.7554179566563467, 0.719626168224299];\n",
    "rp_ens_2 = [0.26126126126126126, 0.2689075630252101, 0.2845528455284553];\n",
    "\n",
    "rs_m = (rs_1 + rs_2 + rs_3 + rs_4 + rs_5 + rs_6) / 6\n",
    "rp_m = (rp_1 + rp_2 + rp_3 + rp_4 + rp_5 + rp_6) / 6\n",
    "\n",
    "rs_ens_m = (rs_ens_1 + rs_ens_2) / 2\n",
    "rp_ens_m = (rp_ens_1 + rp_ens_2) / 2\n",
    "\n",
    "println(\"Single: $(rs_m)\")\n",
    "println(\"Paragraph: $(rp_m)\")\n",
    "println(\"Weighted Single: $(mean_and_std(rs_m, s))\")\n",
    "println(\"Weighted Paragraph: $(mean_and_std(rp_m, p))\")\n",
    "println(\"Ensemble Weighted Single: $(mean_and_std(rs_ens_m, s))\")\n",
    "println(\"Ensemble Weighted Paragraph: $(mean_and_std(rp_ens_m, p))\")\n"
   ]
  },
  {
   "cell_type": "code",
   "execution_count": 3,
   "metadata": {
    "collapsed": false
   },
   "outputs": [
    {
     "ename": "LoadError",
     "evalue": "MethodError: no method matching mean_and_std(::Array{Any,1}, ::StatsBase.WeightVec{Float64,Array{Float64,1}})\u001b[0m\nClosest candidates are:\n  mean_and_std(\u001b[1m\u001b[31m::AbstractArray{T<:Real,N}\u001b[0m, ::StatsBase.WeightVec{W,Vec<:AbstractArray{T<:Real,1}}) at /home/cano/.julia/v0.5/StatsBase/src/moments.jl:124\n  mean_and_std(\u001b[1m\u001b[31m::AbstractArray{T<:Real,N}\u001b[0m, ::StatsBase.WeightVec{W,Vec<:AbstractArray{T<:Real,1}}, \u001b[1m\u001b[31m::Int64\u001b[0m) at /home/cano/.julia/v0.5/StatsBase/src/moments.jl:130\u001b[0m",
     "output_type": "error",
     "traceback": [
      "MethodError: no method matching mean_and_std(::Array{Any,1}, ::StatsBase.WeightVec{Float64,Array{Float64,1}})\u001b[0m\nClosest candidates are:\n  mean_and_std(\u001b[1m\u001b[31m::AbstractArray{T<:Real,N}\u001b[0m, ::StatsBase.WeightVec{W,Vec<:AbstractArray{T<:Real,1}}) at /home/cano/.julia/v0.5/StatsBase/src/moments.jl:124\n  mean_and_std(\u001b[1m\u001b[31m::AbstractArray{T<:Real,N}\u001b[0m, ::StatsBase.WeightVec{W,Vec<:AbstractArray{T<:Real,1}}, \u001b[1m\u001b[31m::Int64\u001b[0m) at /home/cano/.julia/v0.5/StatsBase/src/moments.jl:130\u001b[0m",
      ""
     ]
    }
   ],
   "source": [
    "rs_ens10_1 = [];\n",
    "rp_ens10_1 = [];\n",
    "\n",
    "rs_ens10_2 = [];\n",
    "rp_ens10_2 = [];\n",
    "\n",
    "rs_ens_m = (rs_ens10_1 + rs_ens10_2) / 2\n",
    "rp_ens_m = (rp_ens10_1 + rp_ens10_2) / 2\n",
    "\n",
    "println(\"Ensemble10 Weighted Single: $(mean_and_std(rs_ens_m, s))\")\n",
    "println(\"Ensemble10 Weighted Paragraph: $(mean_and_std(rp_ens_m, p))\")"
   ]
  },
  {
   "cell_type": "code",
   "execution_count": null,
   "metadata": {
    "collapsed": true
   },
   "outputs": [],
   "source": []
  }
 ],
 "metadata": {
  "kernelspec": {
   "display_name": "Julia 0.5.0",
   "language": "julia",
   "name": "julia-0.5"
  },
  "language_info": {
   "file_extension": ".jl",
   "mimetype": "application/julia",
   "name": "julia",
   "version": "0.5.0"
  }
 },
 "nbformat": 4,
 "nbformat_minor": 1
}
