{
 "cells": [
  {
   "cell_type": "code",
   "execution_count": 1,
   "metadata": {
    "collapsed": false
   },
   "outputs": [
    {
     "data": {
      "text/plain": [
       "StatsBase.WeightVec{Float64,Array{Float64,1}}([0.319088,0.344729,0.336182],1.0)"
      ]
     },
     "execution_count": 1,
     "metadata": {},
     "output_type": "execute_result"
    }
   ],
   "source": [
    "using StatsBase\n",
    "\n",
    "s = [874, 1293, 1070] ./ 3237\n",
    "p = [224, 242, 236] ./ 702\n",
    "\n",
    "s = WeightVec(s)\n",
    "p = WeightVec(p)"
   ]
  },
  {
   "cell_type": "code",
   "execution_count": 4,
   "metadata": {
    "collapsed": false
   },
   "outputs": [
    {
     "name": "stdout",
     "output_type": "stream",
     "text": [
      "Single: [0.649886,0.71462,0.667913]\n",
      "Paragraph: [0.259286,0.241924,0.26581]\n",
      "Weighted Single: (0.6817022900621439,0.02773097953287085)\n",
      "Weighted Paragraph: (0.25549416536789626,0.010190463535823686)\n",
      "Ensemble Weighted Single: (0.7049772608527215,0.02221177357059797)\n",
      "Ensemble Weighted Paragraph: (0.29693843928469443,0.020727345318575174)\n"
     ]
    }
   ],
   "source": [
    "model = \"cnn beam\"\n",
    "\n",
    "rs_1 = [0.6430205949656751, 0.7078825347758887, 0.6785046728971963];\n",
    "rp_1 = [0.2631578947368421, 0.20161290322580644, 0.2831858407079646];\n",
    "\n",
    "rs_2 = [0.6498855835240275, 0.7136222910216719, 0.6635514018691588];\n",
    "rp_2 = [0.22522522522522523, 0.2605042016806723, 0.2845528455284553];\n",
    "\n",
    "rs_3 = [0.6224256292906178, 0.7357032457496137, 0.6710280373831776];\n",
    "rp_3 = [0.21929824561403508, 0.2661290322580645, 0.24778761061946902];\n",
    "\n",
    "rs_4 = [0.6498855835240275, 0.7368421052631579, 0.6560747663551402];\n",
    "rp_4 = [0.26126126126126126, 0.29411764705882354, 0.2845528455284553];\n",
    "\n",
    "rs_5 = [0.6590389016018307, 0.6893353941267388, 0.6485981308411215];\n",
    "rp_5 = [0.2894736842105263, 0.18548387096774194, 0.18584070796460178];\n",
    "\n",
    "rs_6 = [0.6750572082379863, 0.7043343653250774, 0.6897196261682244];\n",
    "rp_6 = [0.2972972972972973, 0.24369747899159663, 0.3089430894308943];\n",
    "\n",
    "rs_ens_1 = [0.665903890160183, 0.7202472952086554, 0.7009345794392523];\n",
    "rp_ens_1 = [0.2807017543859649, 0.2661290322580645, 0.3185840707964602];\n",
    "\n",
    "rs_ens_2 = [0.6956521739130435, 0.7430340557275542, 0.6841121495327103];\n",
    "rp_ens_2 = [0.27927927927927926, 0.3025210084033613, 0.3333333333333333];\n",
    "\n",
    "rs_m = (rs_1 + rs_2 + rs_3 + rs_4 + rs_5 + rs_6) / 6\n",
    "rp_m = (rp_1 + rp_2 + rp_3 + rp_4 + rp_5 + rp_6) / 6\n",
    "\n",
    "rs_ens_m = (rs_ens_1 + rs_ens_2) / 2\n",
    "rp_ens_m = (rp_ens_1 + rp_ens_2) / 2\n",
    "\n",
    "println(\"Single: $(rs_m)\")\n",
    "println(\"Paragraph: $(rp_m)\")\n",
    "println(\"Weighted Single: $(mean_and_std(rs_m, s))\")\n",
    "println(\"Weighted Paragraph: $(mean_and_std(rp_m, p))\")\n",
    "println(\"Ensemble Weighted Single: $(mean_and_std(rs_ens_m, s))\")\n",
    "println(\"Ensemble Weighted Paragraph: $(mean_and_std(rp_ens_m, p))\")\n"
   ]
  },
  {
   "cell_type": "code",
   "execution_count": 3,
   "metadata": {
    "collapsed": false
   },
   "outputs": [
    {
     "name": "stdout",
     "output_type": "stream",
     "text": [
      "Ensemble10 Weighted Single: (0.7241341459653547,0.019874746288752722)\n",
      "Ensemble10 Weighted Paragraph: (0.2911213294598043,0.03758720426255375)\n"
     ]
    }
   ],
   "source": [
    "rs_ens10_1 = [];\n",
    "rp_ens10_1 = [];\n",
    "\n",
    "rs_ens10_2 = [];\n",
    "rp_ens10_2 = [];\n",
    "\n",
    "rs_ens_m = (rs_ens10_1 + rs_ens10_2) / 2\n",
    "rp_ens_m = (rp_ens10_1 + rp_ens10_2) / 2\n",
    "\n",
    "println(\"Ensemble10 Weighted Single: $(mean_and_std(rs_ens_m, s))\")\n",
    "println(\"Ensemble10 Weighted Paragraph: $(mean_and_std(rp_ens_m, p))\")"
   ]
  },
  {
   "cell_type": "code",
   "execution_count": null,
   "metadata": {
    "collapsed": true
   },
   "outputs": [],
   "source": []
  }
 ],
 "metadata": {
  "kernelspec": {
   "display_name": "Julia 0.5.0",
   "language": "julia",
   "name": "julia-0.5"
  },
  "language_info": {
   "file_extension": ".jl",
   "mimetype": "application/julia",
   "name": "julia",
   "version": "0.5.0"
  }
 },
 "nbformat": 4,
 "nbformat_minor": 1
}
