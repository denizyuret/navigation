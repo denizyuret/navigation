{
 "cells": [
  {
   "cell_type": "code",
   "execution_count": 3,
   "metadata": {
    "collapsed": false
   },
   "outputs": [
    {
     "data": {
      "text/plain": [
       "StatsBase.WeightVec{Float64,Array{Float64,1}}([0.319088,0.344729,0.336182],1.0)"
      ]
     },
     "execution_count": 3,
     "metadata": {},
     "output_type": "execute_result"
    }
   ],
   "source": [
    "using StatsBase\n",
    "\n",
    "s = [874, 1293, 1070] ./ 3237\n",
    "p = [224, 242, 236] ./ 702\n",
    "\n",
    "s = WeightVec(s)\n",
    "p = WeightVec(p)"
   ]
  },
  {
   "cell_type": "code",
   "execution_count": 5,
   "metadata": {
    "collapsed": false
   },
   "outputs": [
    {
     "name": "stdout",
     "output_type": "stream",
     "text": [
      "Single: [0.659802,0.714884,0.68567]\n",
      "Paragraph: [0.259009,0.223943,0.276459]\n",
      "Weighted Single: (0.6903545842720603,0.022352430686252336)\n",
      "Weighted Paragraph: (0.2527869494353814,0.02208039261743872)\n",
      "Ensemble Weighted Single: (0.7185696184624317,0.02081982353629326)\n",
      "Ensemble Weighted Paragraph: (0.28743816128386557,0.02947617836671902)\n"
     ]
    }
   ],
   "source": [
    "model = \"wvecs + preva + beam\"\n",
    "\n",
    "rs_1 = [0.6224256292906178, 0.6893353941267388, 0.6766355140186916];\n",
    "rp_1 = [0.2631578947368421, 0.21774193548387097, 0.2831858407079646];\n",
    "\n",
    "rs_2 = [0.6864988558352403, 0.732198142414860, 0.7121495327102804];\n",
    "rp_2 = [0.23423423423423423, 0.2605042016806723, 0.3008130081300813];\n",
    "\n",
    "rs_3 = [0.6453089244851259, 0.7001545595054096, 0.6953271028037383];\n",
    "rp_3 = [0.2807017543859649, 0.21774193548387097, 0.30973451327433627];\n",
    "\n",
    "rs_4 = [0.6613272311212814, 0.7321981424148607, 0.6766355140186916];\n",
    "rp_4 = [0.22522522522522523, 0.2689075630252101, 0.25203252032520324];\n",
    "\n",
    "rs_5 = [0.6773455377574371, 0.7217928902627512, 0.6710280373831776];\n",
    "rp_5 = [0.2894736842105263, 0.18548387096774194, 0.30973451327433627];\n",
    "\n",
    "rs_6 = [0.665903890160183, 0.7136222910216719, 0.6822429906542056];\n",
    "rp_6 = [0.26126126126126126, 0.19327731092436976, 0.2032520325203252];\n",
    "\n",
    "rs_ens_1 = [0.6773455377574371, 0.732612055641422, 0.7046728971962617];\n",
    "rp_ens_1 = [0.2982456140350877, 0.22580645161290322, 0.34513274336283184];\n",
    "\n",
    "rs_ens_2 = [0.7070938215102975, 0.7523219814241486, 0.7177570093457943];\n",
    "rp_ens_2 = [0.27927927927927926, 0.2773109243697479, 0.3008130081300813];\n",
    "\n",
    "rs_m = (rs_1 + rs_2 + rs_3 + rs_4 + rs_5 + rs_6) / 6\n",
    "rp_m = (rp_1 + rp_2 + rp_3 + rp_4 + rp_5 + rp_6) / 6\n",
    "\n",
    "rs_ens_m = (rs_ens_1 + rs_ens_2) / 2\n",
    "rp_ens_m = (rp_ens_1 + rp_ens_2) / 2\n",
    "\n",
    "println(\"Single: $(rs_m)\")\n",
    "println(\"Paragraph: $(rp_m)\")\n",
    "println(\"Weighted Single: $(mean_and_std(rs_m, s))\")\n",
    "println(\"Weighted Paragraph: $(mean_and_std(rp_m, p))\")\n",
    "println(\"Ensemble Weighted Single: $(mean_and_std(rs_ens_m, s))\")\n",
    "println(\"Ensemble Weighted Paragraph: $(mean_and_std(rp_ens_m, p))\")\n"
   ]
  },
  {
   "cell_type": "code",
   "execution_count": 3,
   "metadata": {
    "collapsed": false
   },
   "outputs": [
    {
     "ename": "LoadError",
     "evalue": "MethodError: no method matching mean_and_std(::Array{Any,1}, ::StatsBase.WeightVec{Float64,Array{Float64,1}})\u001b[0m\nClosest candidates are:\n  mean_and_std(\u001b[1m\u001b[31m::AbstractArray{T<:Real,N}\u001b[0m, ::StatsBase.WeightVec{W,Vec<:AbstractArray{T<:Real,1}}) at /home/cano/.julia/v0.5/StatsBase/src/moments.jl:124\n  mean_and_std(\u001b[1m\u001b[31m::AbstractArray{T<:Real,N}\u001b[0m, ::StatsBase.WeightVec{W,Vec<:AbstractArray{T<:Real,1}}, \u001b[1m\u001b[31m::Int64\u001b[0m) at /home/cano/.julia/v0.5/StatsBase/src/moments.jl:130\u001b[0m",
     "output_type": "error",
     "traceback": [
      "MethodError: no method matching mean_and_std(::Array{Any,1}, ::StatsBase.WeightVec{Float64,Array{Float64,1}})\u001b[0m\nClosest candidates are:\n  mean_and_std(\u001b[1m\u001b[31m::AbstractArray{T<:Real,N}\u001b[0m, ::StatsBase.WeightVec{W,Vec<:AbstractArray{T<:Real,1}}) at /home/cano/.julia/v0.5/StatsBase/src/moments.jl:124\n  mean_and_std(\u001b[1m\u001b[31m::AbstractArray{T<:Real,N}\u001b[0m, ::StatsBase.WeightVec{W,Vec<:AbstractArray{T<:Real,1}}, \u001b[1m\u001b[31m::Int64\u001b[0m) at /home/cano/.julia/v0.5/StatsBase/src/moments.jl:130\u001b[0m",
      ""
     ]
    }
   ],
   "source": [
    "rs_ens10_1 = [];\n",
    "rp_ens10_1 = [];\n",
    "\n",
    "rs_ens10_2 = [];\n",
    "rp_ens10_2 = [];\n",
    "\n",
    "rs_ens_m = (rs_ens10_1 + rs_ens10_2) / 2\n",
    "rp_ens_m = (rp_ens10_1 + rp_ens10_2) / 2\n",
    "\n",
    "println(\"Ensemble10 Weighted Single: $(mean_and_std(rs_ens_m, s))\")\n",
    "println(\"Ensemble10 Weighted Paragraph: $(mean_and_std(rp_ens_m, p))\")"
   ]
  },
  {
   "cell_type": "code",
   "execution_count": null,
   "metadata": {
    "collapsed": true
   },
   "outputs": [],
   "source": []
  }
 ],
 "metadata": {
  "kernelspec": {
   "display_name": "Julia 0.5.0",
   "language": "julia",
   "name": "julia-0.5"
  },
  "language_info": {
   "file_extension": ".jl",
   "mimetype": "application/julia",
   "name": "julia",
   "version": "0.5.0"
  }
 },
 "nbformat": 4,
 "nbformat_minor": 1
}
